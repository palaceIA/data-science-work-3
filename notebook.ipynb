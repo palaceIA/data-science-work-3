{
 "cells": [
  {
   "cell_type": "code",
   "execution_count": 94,
   "id": "d2918ed5",
   "metadata": {},
   "outputs": [],
   "source": [
    "# Importando modulos de Data Science \n",
    "import matplotlib.pyplot as plt \n",
    "import seaborn as sns \n",
    "import pandas as  pd "
   ]
  },
  {
   "cell_type": "markdown",
   "id": "bdff7b8b",
   "metadata": {},
   "source": [
    "### Carregamento de dados"
   ]
  },
  {
   "cell_type": "code",
   "execution_count": 95,
   "id": "5d9dea86",
   "metadata": {},
   "outputs": [],
   "source": [
    "df = pd.read_csv(\"dataset.csv\",sep=\";\")"
   ]
  },
  {
   "cell_type": "markdown",
   "id": "38e3112d",
   "metadata": {},
   "source": [
    "### Analise inicial de dados \n",
    "**Objetivos**:     \n",
    "- Analisar brevemente os dados  \n",
    "- Tipo de cada dos  \n",
    "- Quantidade de valoresn nulos  \n",
    "- Quantidad de duplicadas   "
   ]
  },
  {
   "cell_type": "code",
   "execution_count": 96,
   "id": "a73d67ae",
   "metadata": {},
   "outputs": [
    {
     "data": {
      "application/vnd.microsoft.datawrangler.viewer.v0+json": {
       "columns": [
        {
         "name": "index",
         "rawType": "int64",
         "type": "integer"
        },
        {
         "name": "ID",
         "rawType": "int64",
         "type": "integer"
        },
        {
         "name": "Nome",
         "rawType": "object",
         "type": "string"
        },
        {
         "name": "Idade",
         "rawType": "float64",
         "type": "float"
        },
        {
         "name": "Cidade",
         "rawType": "object",
         "type": "string"
        },
        {
         "name": "Produto",
         "rawType": "object",
         "type": "string"
        },
        {
         "name": "Preço",
         "rawType": "object",
         "type": "unknown"
        },
        {
         "name": "Quantidade",
         "rawType": "int64",
         "type": "integer"
        },
        {
         "name": "Data_Compra",
         "rawType": "object",
         "type": "string"
        }
       ],
       "ref": "b625e536-6f2d-44c7-b472-af0c00cbf2d4",
       "rows": [
        [
         "0",
         "1",
         "Mariana",
         "48.0",
         "FORTALEZA",
         "Tablet",
         "2010,87",
         "7",
         "30-05-2024"
        ],
        [
         "1",
         "2",
         "Bruno",
         "42.0",
         "RIO DE JANEIRO",
         "Teclado",
         null,
         "6",
         "12-04-2025"
        ],
        [
         "2",
         "3",
         "Ana",
         "54.0",
         "RIO DE JANEIRO",
         "Monitor",
         "3619.29",
         "2",
         "10-12-2022"
        ],
        [
         "3",
         "4",
         "Carlos",
         "62.0",
         "CURITIBA",
         "Teclado",
         "40415.9",
         "8",
         "31-12-2022"
        ],
        [
         "4",
         "5",
         "Mariana",
         "60.0",
         "CURITIBA",
         "Notebook",
         "716.66",
         "8",
         "14-09-2023"
        ]
       ],
       "shape": {
        "columns": 8,
        "rows": 5
       }
      },
      "text/html": [
       "<div>\n",
       "<style scoped>\n",
       "    .dataframe tbody tr th:only-of-type {\n",
       "        vertical-align: middle;\n",
       "    }\n",
       "\n",
       "    .dataframe tbody tr th {\n",
       "        vertical-align: top;\n",
       "    }\n",
       "\n",
       "    .dataframe thead th {\n",
       "        text-align: right;\n",
       "    }\n",
       "</style>\n",
       "<table border=\"1\" class=\"dataframe\">\n",
       "  <thead>\n",
       "    <tr style=\"text-align: right;\">\n",
       "      <th></th>\n",
       "      <th>ID</th>\n",
       "      <th>Nome</th>\n",
       "      <th>Idade</th>\n",
       "      <th>Cidade</th>\n",
       "      <th>Produto</th>\n",
       "      <th>Preço</th>\n",
       "      <th>Quantidade</th>\n",
       "      <th>Data_Compra</th>\n",
       "    </tr>\n",
       "  </thead>\n",
       "  <tbody>\n",
       "    <tr>\n",
       "      <th>0</th>\n",
       "      <td>1</td>\n",
       "      <td>Mariana</td>\n",
       "      <td>48.0</td>\n",
       "      <td>FORTALEZA</td>\n",
       "      <td>Tablet</td>\n",
       "      <td>2010,87</td>\n",
       "      <td>7</td>\n",
       "      <td>30-05-2024</td>\n",
       "    </tr>\n",
       "    <tr>\n",
       "      <th>1</th>\n",
       "      <td>2</td>\n",
       "      <td>Bruno</td>\n",
       "      <td>42.0</td>\n",
       "      <td>RIO DE JANEIRO</td>\n",
       "      <td>Teclado</td>\n",
       "      <td>NaN</td>\n",
       "      <td>6</td>\n",
       "      <td>12-04-2025</td>\n",
       "    </tr>\n",
       "    <tr>\n",
       "      <th>2</th>\n",
       "      <td>3</td>\n",
       "      <td>Ana</td>\n",
       "      <td>54.0</td>\n",
       "      <td>RIO DE JANEIRO</td>\n",
       "      <td>Monitor</td>\n",
       "      <td>3619.29</td>\n",
       "      <td>2</td>\n",
       "      <td>10-12-2022</td>\n",
       "    </tr>\n",
       "    <tr>\n",
       "      <th>3</th>\n",
       "      <td>4</td>\n",
       "      <td>Carlos</td>\n",
       "      <td>62.0</td>\n",
       "      <td>CURITIBA</td>\n",
       "      <td>Teclado</td>\n",
       "      <td>40415.9</td>\n",
       "      <td>8</td>\n",
       "      <td>31-12-2022</td>\n",
       "    </tr>\n",
       "    <tr>\n",
       "      <th>4</th>\n",
       "      <td>5</td>\n",
       "      <td>Mariana</td>\n",
       "      <td>60.0</td>\n",
       "      <td>CURITIBA</td>\n",
       "      <td>Notebook</td>\n",
       "      <td>716.66</td>\n",
       "      <td>8</td>\n",
       "      <td>14-09-2023</td>\n",
       "    </tr>\n",
       "  </tbody>\n",
       "</table>\n",
       "</div>"
      ],
      "text/plain": [
       "   ID     Nome  Idade          Cidade   Produto    Preço  Quantidade  \\\n",
       "0   1  Mariana   48.0       FORTALEZA    Tablet  2010,87           7   \n",
       "1   2    Bruno   42.0  RIO DE JANEIRO   Teclado      NaN           6   \n",
       "2   3      Ana   54.0  RIO DE JANEIRO   Monitor  3619.29           2   \n",
       "3   4   Carlos   62.0        CURITIBA   Teclado  40415.9           8   \n",
       "4   5  Mariana   60.0        CURITIBA  Notebook   716.66           8   \n",
       "\n",
       "  Data_Compra  \n",
       "0  30-05-2024  \n",
       "1  12-04-2025  \n",
       "2  10-12-2022  \n",
       "3  31-12-2022  \n",
       "4  14-09-2023  "
      ]
     },
     "execution_count": 96,
     "metadata": {},
     "output_type": "execute_result"
    }
   ],
   "source": [
    "# Analisando as 5 primeiras instâncias do dataset\n",
    "df.head()"
   ]
  },
  {
   "cell_type": "code",
   "execution_count": 97,
   "id": "2bbe17b3",
   "metadata": {},
   "outputs": [
    {
     "name": "stdout",
     "output_type": "stream",
     "text": [
      "<class 'pandas.core.frame.DataFrame'>\n",
      "RangeIndex: 510 entries, 0 to 509\n",
      "Data columns (total 8 columns):\n",
      " #   Column       Non-Null Count  Dtype  \n",
      "---  ------       --------------  -----  \n",
      " 0   ID           510 non-null    int64  \n",
      " 1   Nome         510 non-null    object \n",
      " 2   Idade        489 non-null    float64\n",
      " 3   Cidade       510 non-null    object \n",
      " 4   Produto      510 non-null    object \n",
      " 5   Preço        473 non-null    object \n",
      " 6   Quantidade   510 non-null    int64  \n",
      " 7   Data_Compra  510 non-null    object \n",
      "dtypes: float64(1), int64(2), object(5)\n",
      "memory usage: 32.0+ KB\n"
     ]
    }
   ],
   "source": [
    "# Informações gerais do dataset\n",
    "df.info()"
   ]
  },
  {
   "cell_type": "code",
   "execution_count": 98,
   "id": "f189a269",
   "metadata": {},
   "outputs": [
    {
     "data": {
      "application/vnd.microsoft.datawrangler.viewer.v0+json": {
       "columns": [
        {
         "name": "index",
         "rawType": "object",
         "type": "string"
        },
        {
         "name": "0",
         "rawType": "int64",
         "type": "integer"
        }
       ],
       "ref": "85bed5d1-5d45-4228-8db2-59be27c65bed",
       "rows": [
        [
         "ID",
         "0"
        ],
        [
         "Nome",
         "0"
        ],
        [
         "Idade",
         "21"
        ],
        [
         "Cidade",
         "0"
        ],
        [
         "Produto",
         "0"
        ],
        [
         "Preço",
         "37"
        ],
        [
         "Quantidade",
         "0"
        ],
        [
         "Data_Compra",
         "0"
        ]
       ],
       "shape": {
        "columns": 1,
        "rows": 8
       }
      },
      "text/plain": [
       "ID              0\n",
       "Nome            0\n",
       "Idade          21\n",
       "Cidade          0\n",
       "Produto         0\n",
       "Preço          37\n",
       "Quantidade      0\n",
       "Data_Compra     0\n",
       "dtype: int64"
      ]
     },
     "execution_count": 98,
     "metadata": {},
     "output_type": "execute_result"
    }
   ],
   "source": [
    "# Identificando colunas com instâncias nulas \n",
    "df.isnull().sum()"
   ]
  },
  {
   "cell_type": "code",
   "execution_count": 99,
   "id": "48979e3c",
   "metadata": {},
   "outputs": [
    {
     "data": {
      "application/vnd.microsoft.datawrangler.viewer.v0+json": {
       "columns": [
        {
         "name": "index",
         "rawType": "object",
         "type": "string"
        },
        {
         "name": "0",
         "rawType": "int64",
         "type": "integer"
        }
       ],
       "ref": "819ee8f3-3ecd-401e-b9fc-eb2757fd0925",
       "rows": [
        [
         "ID",
         "500"
        ],
        [
         "Nome",
         "10"
        ],
        [
         "Idade",
         "53"
        ],
        [
         "Cidade",
         "16"
        ],
        [
         "Produto",
         "7"
        ],
        [
         "Preço",
         "465"
        ],
        [
         "Quantidade",
         "10"
        ],
        [
         "Data_Compra",
         "394"
        ]
       ],
       "shape": {
        "columns": 1,
        "rows": 8
       }
      },
      "text/plain": [
       "ID             500\n",
       "Nome            10\n",
       "Idade           53\n",
       "Cidade          16\n",
       "Produto          7\n",
       "Preço          465\n",
       "Quantidade      10\n",
       "Data_Compra    394\n",
       "dtype: int64"
      ]
     },
     "execution_count": 99,
     "metadata": {},
     "output_type": "execute_result"
    }
   ],
   "source": [
    "# Observando valores unicos\n",
    "df.nunique()"
   ]
  },
  {
   "cell_type": "markdown",
   "id": "62faa91a",
   "metadata": {},
   "source": [
    "### Tratamento de dados\n",
    "\n",
    "**Objetivos**       \n",
    "- Remover valores ausentes  \n",
    "- Determinar uso de valores centrais    \n",
    "- Definir novos valores     \n",
    "- Padronizar valor de Preço para formato internacional      \n",
    "- Padronizar tipos de variaveis     \n",
    "- Retirar instâncias duplicadas     \n"
   ]
  },
  {
   "cell_type": "code",
   "execution_count": 100,
   "id": "be7d2bd5",
   "metadata": {},
   "outputs": [],
   "source": [
    "\"\"\"\n",
    "                             Removendo valores nulos \n",
    "    Observando os dados , por possuimos poucas instâncias sera necessario utilizar\n",
    "    medidas centrais das determinadas colunas , em caso de maiores quantidade de dados\n",
    "    não teria problema em dropar essas instâncias com campos nulos . A medida central \n",
    "    utilizada sera a mediana por conta de ser mais consistente e sofre menos interferencia\n",
    "    de outliers. \n",
    "\n",
    "    Antes de passar para a etapa de mudança de valores nulos , foi observado que a \n",
    "    coluna Preço é do tipo object , então antes de tudo vamos padronizar essa coluna\n",
    "    e ja aproveitar para transformar no formato internacional , além de transformar a \n",
    "    coluna idade em inteiro \n",
    "\"\"\"\n",
    "\n",
    "df[\"Preço\"] = df[\"Preço\"].str.replace(\",\", \".\", regex=False)\n",
    "df[\"Preço\"] = df[\"Preço\"].astype(float)\n"
   ]
  },
  {
   "cell_type": "code",
   "execution_count": null,
   "id": "2a3fdcfc",
   "metadata": {},
   "outputs": [],
   "source": [
    "\n",
    "df[\"Preço\"].fillna(df[\"Preço\"].median(), inplace=True)\n",
    "df[\"Idade\"].fillna(df[\"Idade\"].median(), inplace=True)\n",
    "df['Idade'] = df['Idade'].astype(int)"
   ]
  },
  {
   "cell_type": "code",
   "execution_count": 102,
   "id": "0c9f3e54",
   "metadata": {},
   "outputs": [
    {
     "data": {
      "application/vnd.microsoft.datawrangler.viewer.v0+json": {
       "columns": [
        {
         "name": "index",
         "rawType": "object",
         "type": "string"
        },
        {
         "name": "0",
         "rawType": "int64",
         "type": "integer"
        }
       ],
       "ref": "3444d949-540a-479b-a10d-9ae29365b38f",
       "rows": [
        [
         "ID",
         "0"
        ],
        [
         "Nome",
         "0"
        ],
        [
         "Idade",
         "0"
        ],
        [
         "Cidade",
         "0"
        ],
        [
         "Produto",
         "0"
        ],
        [
         "Preço",
         "0"
        ],
        [
         "Quantidade",
         "0"
        ],
        [
         "Data_Compra",
         "0"
        ]
       ],
       "shape": {
        "columns": 1,
        "rows": 8
       }
      },
      "text/plain": [
       "ID             0\n",
       "Nome           0\n",
       "Idade          0\n",
       "Cidade         0\n",
       "Produto        0\n",
       "Preço          0\n",
       "Quantidade     0\n",
       "Data_Compra    0\n",
       "dtype: int64"
      ]
     },
     "execution_count": 102,
     "metadata": {},
     "output_type": "execute_result"
    }
   ],
   "source": [
    "df.isnull().sum()"
   ]
  },
  {
   "cell_type": "code",
   "execution_count": 103,
   "id": "da67394e",
   "metadata": {},
   "outputs": [
    {
     "data": {
      "application/vnd.microsoft.datawrangler.viewer.v0+json": {
       "columns": [
        {
         "name": "Cidade",
         "rawType": "object",
         "type": "string"
        },
        {
         "name": "count",
         "rawType": "int64",
         "type": "integer"
        }
       ],
       "ref": "e6440a2b-0b6e-472b-aa4f-cc2daebfdccf",
       "rows": [
        [
         "PORTO ALEGRE",
         "67"
        ],
        [
         "SALVADOR",
         "64"
        ],
        [
         "MANAUS",
         "59"
        ],
        [
         "BELO HORIZONTE",
         "59"
        ],
        [
         "CURITIBA",
         "57"
        ],
        [
         "FORTALEZA",
         "56"
        ],
        [
         "RIO DE JANEIRO",
         "54"
        ],
        [
         "SÃO PAULO",
         "47"
        ],
        [
         "porto alegre",
         "10"
        ],
        [
         "rio de janeiro",
         "7"
        ],
        [
         "belo horizonte",
         "7"
        ],
        [
         "curitiba",
         "6"
        ],
        [
         "salvador",
         "5"
        ],
        [
         "fortaleza",
         "5"
        ],
        [
         "manaus",
         "4"
        ],
        [
         "são paulo",
         "3"
        ]
       ],
       "shape": {
        "columns": 1,
        "rows": 16
       }
      },
      "text/plain": [
       "Cidade\n",
       "PORTO ALEGRE      67\n",
       "SALVADOR          64\n",
       "MANAUS            59\n",
       "BELO HORIZONTE    59\n",
       "CURITIBA          57\n",
       "FORTALEZA         56\n",
       "RIO DE JANEIRO    54\n",
       "SÃO PAULO         47\n",
       "porto alegre      10\n",
       "rio de janeiro     7\n",
       "belo horizonte     7\n",
       "curitiba           6\n",
       "salvador           5\n",
       "fortaleza          5\n",
       "manaus             4\n",
       "são paulo          3\n",
       "Name: count, dtype: int64"
      ]
     },
     "execution_count": 103,
     "metadata": {},
     "output_type": "execute_result"
    }
   ],
   "source": [
    "\"\"\"\n",
    "                            Padronizado valores de Cidade\n",
    "        Temos SP , São Paulo...etc . Para esse problema vamos definir siglas das cidades\n",
    "        primeiro vamos ver todas as cidades e definir um dicionario com as siglas de cada cidade\n",
    "\"\"\"\n",
    "df['Cidade'].value_counts()"
   ]
  },
  {
   "cell_type": "code",
   "execution_count": 104,
   "id": "f1558a50",
   "metadata": {},
   "outputs": [],
   "source": [
    "df['Cidade'] = df['Cidade'].str.lower()"
   ]
  },
  {
   "cell_type": "code",
   "execution_count": 105,
   "id": "a5017456",
   "metadata": {},
   "outputs": [
    {
     "data": {
      "application/vnd.microsoft.datawrangler.viewer.v0+json": {
       "columns": [
        {
         "name": "Cidade",
         "rawType": "object",
         "type": "string"
        },
        {
         "name": "count",
         "rawType": "int64",
         "type": "integer"
        }
       ],
       "ref": "fe7d475c-94e5-4209-a730-4bd86c61d3da",
       "rows": [
        [
         "porto alegre",
         "77"
        ],
        [
         "salvador",
         "69"
        ],
        [
         "belo horizonte",
         "66"
        ],
        [
         "curitiba",
         "63"
        ],
        [
         "manaus",
         "63"
        ],
        [
         "rio de janeiro",
         "61"
        ],
        [
         "fortaleza",
         "61"
        ],
        [
         "são paulo",
         "50"
        ]
       ],
       "shape": {
        "columns": 1,
        "rows": 8
       }
      },
      "text/plain": [
       "Cidade\n",
       "porto alegre      77\n",
       "salvador          69\n",
       "belo horizonte    66\n",
       "curitiba          63\n",
       "manaus            63\n",
       "rio de janeiro    61\n",
       "fortaleza         61\n",
       "são paulo         50\n",
       "Name: count, dtype: int64"
      ]
     },
     "execution_count": 105,
     "metadata": {},
     "output_type": "execute_result"
    }
   ],
   "source": [
    "df['Cidade'].value_counts()"
   ]
  },
  {
   "cell_type": "code",
   "execution_count": 106,
   "id": "5f75b82a",
   "metadata": {},
   "outputs": [],
   "source": [
    "siglas = {\n",
    "    \"porto alegre\" : \"PA\",\n",
    "    \"salvador\" : \"SA\",\n",
    "    \"belo horizonte\" : \"BH\",\n",
    "    \"curitiba\" : \"CR\",\n",
    "    \"manaus\" : \"MA\",\n",
    "    \"rio de janeiro\" : \"RJ\",\n",
    "    \"fortaleza\" : \"FO\",\n",
    "    \"são paulo\" : \"SP\"\n",
    "}\n",
    "\n",
    "df[\"Cidade\"] = df[\"Cidade\"].replace(siglas)"
   ]
  },
  {
   "cell_type": "code",
   "execution_count": 107,
   "id": "9a91b6f4",
   "metadata": {},
   "outputs": [
    {
     "data": {
      "application/vnd.microsoft.datawrangler.viewer.v0+json": {
       "columns": [
        {
         "name": "Cidade",
         "rawType": "object",
         "type": "string"
        },
        {
         "name": "count",
         "rawType": "int64",
         "type": "integer"
        }
       ],
       "ref": "3db26ac9-cc2b-4585-80ee-cc846ccb9892",
       "rows": [
        [
         "PA",
         "77"
        ],
        [
         "SA",
         "69"
        ],
        [
         "BH",
         "66"
        ],
        [
         "CR",
         "63"
        ],
        [
         "MA",
         "63"
        ],
        [
         "RJ",
         "61"
        ],
        [
         "FO",
         "61"
        ],
        [
         "SP",
         "50"
        ]
       ],
       "shape": {
        "columns": 1,
        "rows": 8
       }
      },
      "text/plain": [
       "Cidade\n",
       "PA    77\n",
       "SA    69\n",
       "BH    66\n",
       "CR    63\n",
       "MA    63\n",
       "RJ    61\n",
       "FO    61\n",
       "SP    50\n",
       "Name: count, dtype: int64"
      ]
     },
     "execution_count": 107,
     "metadata": {},
     "output_type": "execute_result"
    }
   ],
   "source": [
    "df['Cidade'].value_counts()"
   ]
  },
  {
   "cell_type": "code",
   "execution_count": 108,
   "id": "baf2b06e",
   "metadata": {},
   "outputs": [],
   "source": [
    "\"\"\"\n",
    "                            Retirando valores duplicados\n",
    "\"\"\"\n",
    "\n",
    "df.drop_duplicates(inplace=True)"
   ]
  },
  {
   "cell_type": "code",
   "execution_count": 110,
   "id": "f8141e68",
   "metadata": {},
   "outputs": [],
   "source": [
    "\"\"\"\n",
    "                        Padronizando coluna Data\n",
    "\"\"\"\n",
    "df['Data_Compra'] = pd.to_datetime(df['Data_Compra'], dayfirst=True, errors='coerce')"
   ]
  },
  {
   "cell_type": "code",
   "execution_count": 112,
   "id": "f7e991f6",
   "metadata": {},
   "outputs": [],
   "source": [
    "df[\"Dia\"] = df['Data_Compra'].dt.day\n",
    "df[\"Mês\"] = df['Data_Compra'].dt.month\n",
    "df[\"Ano\"] = df['Data_Compra'].dt.year"
   ]
  },
  {
   "cell_type": "code",
   "execution_count": null,
   "id": "6a1defcf",
   "metadata": {},
   "outputs": [],
   "source": [
    "\"\"\"\n",
    "                            Dropando colunas \n",
    "\"\"\"\n",
    "columns_drop = [\"ID\",\"Nome\",\"Data_Compra\"]\n",
    "df.drop(columns=columns_drop,inplace=True)"
   ]
  },
  {
   "cell_type": "markdown",
   "id": "7005411f",
   "metadata": {},
   "source": [
    "### Analise exploratoria dos dados\n",
    "\n",
    "**Objetivos**\n",
    "- Plotagem de graficos"
   ]
  },
  {
   "cell_type": "code",
   "execution_count": 117,
   "id": "a4c91115",
   "metadata": {},
   "outputs": [
    {
     "name": "stdout",
     "output_type": "stream",
     "text": [
      "<class 'pandas.core.frame.DataFrame'>\n",
      "Index: 501 entries, 0 to 508\n",
      "Data columns (total 8 columns):\n",
      " #   Column      Non-Null Count  Dtype  \n",
      "---  ------      --------------  -----  \n",
      " 0   Idade       501 non-null    int64  \n",
      " 1   Cidade      501 non-null    object \n",
      " 2   Produto     501 non-null    object \n",
      " 3   Preço       501 non-null    float64\n",
      " 4   Quantidade  501 non-null    int64  \n",
      " 5   Dia         501 non-null    int32  \n",
      " 6   Mês         501 non-null    int32  \n",
      " 7   Ano         501 non-null    int32  \n",
      "dtypes: float64(1), int32(3), int64(2), object(2)\n",
      "memory usage: 29.4+ KB\n"
     ]
    }
   ],
   "source": [
    "df.info()"
   ]
  },
  {
   "cell_type": "code",
   "execution_count": 118,
   "id": "c3ee9dfc",
   "metadata": {},
   "outputs": [],
   "source": [
    "numeric = ['Idade','Preço','Quantidade','Dia','Mês','Ano']\n",
    "obj = [\"Cidade\",\"Produto\"]"
   ]
  },
  {
   "cell_type": "code",
   "execution_count": 119,
   "id": "6a14aaaa",
   "metadata": {},
   "outputs": [
    {
     "data": {
      "application/vnd.microsoft.datawrangler.viewer.v0+json": {
       "columns": [
        {
         "name": "index",
         "rawType": "object",
         "type": "string"
        },
        {
         "name": "Idade",
         "rawType": "float64",
         "type": "float"
        },
        {
         "name": "Preço",
         "rawType": "float64",
         "type": "float"
        },
        {
         "name": "Quantidade",
         "rawType": "float64",
         "type": "float"
        },
        {
         "name": "Dia",
         "rawType": "float64",
         "type": "float"
        },
        {
         "name": "Mês",
         "rawType": "float64",
         "type": "float"
        },
        {
         "name": "Ano",
         "rawType": "float64",
         "type": "float"
        }
       ],
       "ref": "00ef6b1f-abc9-41b6-997c-38e801b3ee21",
       "rows": [
        [
         "count",
         "501.0",
         "501.0",
         "501.0",
         "501.0",
         "501.0",
         "501.0"
        ],
        [
         "mean",
         "44.30139720558882",
         "3098.6173053892217",
         "5.75249500998004",
         "15.558882235528943",
         "6.3213572854291415",
         "2023.8423153692615"
        ],
        [
         "std",
         "15.042838098042276",
         "3657.0995792186086",
         "2.8633230279650688",
         "8.680036056843532",
         "3.4033105873681024",
         "0.8179766673587415"
        ],
        [
         "min",
         "18.0",
         "509.89",
         "1.0",
         "1.0",
         "1.0",
         "2022.0"
        ],
        [
         "25%",
         "32.0",
         "1772.05",
         "3.0",
         "8.0",
         "3.0",
         "2023.0"
        ],
        [
         "50%",
         "44.0",
         "2835.95",
         "6.0",
         "15.0",
         "6.0",
         "2024.0"
        ],
        [
         "75%",
         "57.0",
         "3710.16",
         "8.0",
         "23.0",
         "9.0",
         "2024.0"
        ],
        [
         "max",
         "70.0",
         "47611.6",
         "10.0",
         "31.0",
         "12.0",
         "2025.0"
        ]
       ],
       "shape": {
        "columns": 6,
        "rows": 8
       }
      },
      "text/html": [
       "<div>\n",
       "<style scoped>\n",
       "    .dataframe tbody tr th:only-of-type {\n",
       "        vertical-align: middle;\n",
       "    }\n",
       "\n",
       "    .dataframe tbody tr th {\n",
       "        vertical-align: top;\n",
       "    }\n",
       "\n",
       "    .dataframe thead th {\n",
       "        text-align: right;\n",
       "    }\n",
       "</style>\n",
       "<table border=\"1\" class=\"dataframe\">\n",
       "  <thead>\n",
       "    <tr style=\"text-align: right;\">\n",
       "      <th></th>\n",
       "      <th>Idade</th>\n",
       "      <th>Preço</th>\n",
       "      <th>Quantidade</th>\n",
       "      <th>Dia</th>\n",
       "      <th>Mês</th>\n",
       "      <th>Ano</th>\n",
       "    </tr>\n",
       "  </thead>\n",
       "  <tbody>\n",
       "    <tr>\n",
       "      <th>count</th>\n",
       "      <td>501.000000</td>\n",
       "      <td>501.000000</td>\n",
       "      <td>501.000000</td>\n",
       "      <td>501.000000</td>\n",
       "      <td>501.000000</td>\n",
       "      <td>501.000000</td>\n",
       "    </tr>\n",
       "    <tr>\n",
       "      <th>mean</th>\n",
       "      <td>44.301397</td>\n",
       "      <td>3098.617305</td>\n",
       "      <td>5.752495</td>\n",
       "      <td>15.558882</td>\n",
       "      <td>6.321357</td>\n",
       "      <td>2023.842315</td>\n",
       "    </tr>\n",
       "    <tr>\n",
       "      <th>std</th>\n",
       "      <td>15.042838</td>\n",
       "      <td>3657.099579</td>\n",
       "      <td>2.863323</td>\n",
       "      <td>8.680036</td>\n",
       "      <td>3.403311</td>\n",
       "      <td>0.817977</td>\n",
       "    </tr>\n",
       "    <tr>\n",
       "      <th>min</th>\n",
       "      <td>18.000000</td>\n",
       "      <td>509.890000</td>\n",
       "      <td>1.000000</td>\n",
       "      <td>1.000000</td>\n",
       "      <td>1.000000</td>\n",
       "      <td>2022.000000</td>\n",
       "    </tr>\n",
       "    <tr>\n",
       "      <th>25%</th>\n",
       "      <td>32.000000</td>\n",
       "      <td>1772.050000</td>\n",
       "      <td>3.000000</td>\n",
       "      <td>8.000000</td>\n",
       "      <td>3.000000</td>\n",
       "      <td>2023.000000</td>\n",
       "    </tr>\n",
       "    <tr>\n",
       "      <th>50%</th>\n",
       "      <td>44.000000</td>\n",
       "      <td>2835.950000</td>\n",
       "      <td>6.000000</td>\n",
       "      <td>15.000000</td>\n",
       "      <td>6.000000</td>\n",
       "      <td>2024.000000</td>\n",
       "    </tr>\n",
       "    <tr>\n",
       "      <th>75%</th>\n",
       "      <td>57.000000</td>\n",
       "      <td>3710.160000</td>\n",
       "      <td>8.000000</td>\n",
       "      <td>23.000000</td>\n",
       "      <td>9.000000</td>\n",
       "      <td>2024.000000</td>\n",
       "    </tr>\n",
       "    <tr>\n",
       "      <th>max</th>\n",
       "      <td>70.000000</td>\n",
       "      <td>47611.600000</td>\n",
       "      <td>10.000000</td>\n",
       "      <td>31.000000</td>\n",
       "      <td>12.000000</td>\n",
       "      <td>2025.000000</td>\n",
       "    </tr>\n",
       "  </tbody>\n",
       "</table>\n",
       "</div>"
      ],
      "text/plain": [
       "            Idade         Preço  Quantidade         Dia         Mês  \\\n",
       "count  501.000000    501.000000  501.000000  501.000000  501.000000   \n",
       "mean    44.301397   3098.617305    5.752495   15.558882    6.321357   \n",
       "std     15.042838   3657.099579    2.863323    8.680036    3.403311   \n",
       "min     18.000000    509.890000    1.000000    1.000000    1.000000   \n",
       "25%     32.000000   1772.050000    3.000000    8.000000    3.000000   \n",
       "50%     44.000000   2835.950000    6.000000   15.000000    6.000000   \n",
       "75%     57.000000   3710.160000    8.000000   23.000000    9.000000   \n",
       "max     70.000000  47611.600000   10.000000   31.000000   12.000000   \n",
       "\n",
       "               Ano  \n",
       "count   501.000000  \n",
       "mean   2023.842315  \n",
       "std       0.817977  \n",
       "min    2022.000000  \n",
       "25%    2023.000000  \n",
       "50%    2024.000000  \n",
       "75%    2024.000000  \n",
       "max    2025.000000  "
      ]
     },
     "execution_count": 119,
     "metadata": {},
     "output_type": "execute_result"
    }
   ],
   "source": [
    "df[numeric].describe()"
   ]
  },
  {
   "cell_type": "code",
   "execution_count": 121,
   "id": "83c853b3",
   "metadata": {},
   "outputs": [
    {
     "data": {
      "application/vnd.microsoft.datawrangler.viewer.v0+json": {
       "columns": [
        {
         "name": "index",
         "rawType": "object",
         "type": "string"
        },
        {
         "name": "Cidade",
         "rawType": "object",
         "type": "unknown"
        },
        {
         "name": "Produto",
         "rawType": "object",
         "type": "unknown"
        }
       ],
       "ref": "62da9fa7-b0f0-4012-88a7-507375715a01",
       "rows": [
        [
         "count",
         "501",
         "501"
        ],
        [
         "unique",
         "8",
         "7"
        ],
        [
         "top",
         "PA",
         "Smartphone"
        ],
        [
         "freq",
         "76",
         "82"
        ]
       ],
       "shape": {
        "columns": 2,
        "rows": 4
       }
      },
      "text/html": [
       "<div>\n",
       "<style scoped>\n",
       "    .dataframe tbody tr th:only-of-type {\n",
       "        vertical-align: middle;\n",
       "    }\n",
       "\n",
       "    .dataframe tbody tr th {\n",
       "        vertical-align: top;\n",
       "    }\n",
       "\n",
       "    .dataframe thead th {\n",
       "        text-align: right;\n",
       "    }\n",
       "</style>\n",
       "<table border=\"1\" class=\"dataframe\">\n",
       "  <thead>\n",
       "    <tr style=\"text-align: right;\">\n",
       "      <th></th>\n",
       "      <th>Cidade</th>\n",
       "      <th>Produto</th>\n",
       "    </tr>\n",
       "  </thead>\n",
       "  <tbody>\n",
       "    <tr>\n",
       "      <th>count</th>\n",
       "      <td>501</td>\n",
       "      <td>501</td>\n",
       "    </tr>\n",
       "    <tr>\n",
       "      <th>unique</th>\n",
       "      <td>8</td>\n",
       "      <td>7</td>\n",
       "    </tr>\n",
       "    <tr>\n",
       "      <th>top</th>\n",
       "      <td>PA</td>\n",
       "      <td>Smartphone</td>\n",
       "    </tr>\n",
       "    <tr>\n",
       "      <th>freq</th>\n",
       "      <td>76</td>\n",
       "      <td>82</td>\n",
       "    </tr>\n",
       "  </tbody>\n",
       "</table>\n",
       "</div>"
      ],
      "text/plain": [
       "       Cidade     Produto\n",
       "count     501         501\n",
       "unique      8           7\n",
       "top        PA  Smartphone\n",
       "freq       76          82"
      ]
     },
     "execution_count": 121,
     "metadata": {},
     "output_type": "execute_result"
    }
   ],
   "source": [
    "df[obj].describe()"
   ]
  },
  {
   "cell_type": "code",
   "execution_count": null,
   "id": "97811f6a",
   "metadata": {},
   "outputs": [
    {
     "data": {
      "image/png": "[encoded data removed]",
      "text/plain": [
       "<Figure size 1000x600 with 1 Axes>"
      ]
     },
     "metadata": {},
     "output_type": "display_data"
    }
   ],
   "source": [
    "df['Preço'].plot.hist(edgecolor='black', alpha=0.7, figsize=(10, 6))\n",
    "plt.title('Preço', fontsize=16)\n",
    "plt.xlabel('Preço (R$)', fontsize=12)\n",
    "plt.ylabel('Frequência', fontsize=12)\n",
    "plt.grid(axis='y', linestyle='--', alpha=0.7)\n",
    "plt.show()"
   ]
  },
  {
   "cell_type": "code",
   "execution_count": 139,
   "id": "f8004eb7",
   "metadata": {},
   "outputs": [
    {
     "data": {
      "image/png": "[encoded data removed]",
      "text/plain": [
       "<Figure size 1000x600 with 1 Axes>"
      ]
     },
     "metadata": {},
     "output_type": "display_data"
    }
   ],
   "source": [
    "df['Cidade'].value_counts().plot.bar(figsize=(10, 6))\n",
    "plt.title('Cidades com maior frequência', fontsize=16)\n",
    "plt.xlabel('Cidade', fontsize=12)\n",
    "plt.ylabel('Frequência', fontsize=12)\n",
    "plt.grid(axis='y', linestyle='--', alpha=0.7)\n",
    "plt.show()"
   ]
  },
  {
   "cell_type": "code",
   "execution_count": 140,
   "id": "728f7dc2",
   "metadata": {},
   "outputs": [],
   "source": [
    "df.to_csv(\"dataset_tratado.csv\")"
   ]
  }
 ],
 "metadata": {
  "kernelspec": {
   "display_name": "ml-intent",
   "language": "python",
   "name": "python3"
  },
  "language_info": {
   "codemirror_mode": {
    "name": "ipython",
    "version": 3
   },
   "file_extension": ".py",
   "mimetype": "text/x-python",
   "name": "python",
   "nbconvert_exporter": "python",
   "pygments_lexer": "ipython3",
   "version": "3.13.5"
  }
 },
 "nbformat": 4,
 "nbformat_minor": 5
}
